{
  "nbformat": 4,
  "nbformat_minor": 0,
  "metadata": {
    "colab": {
      "name": "bag_of_words.ipynb",
      "provenance": [],
      "collapsed_sections": []
    },
    "kernelspec": {
      "name": "python3",
      "display_name": "Python 3"
    }
  },
  "cells": [
    {
      "cell_type": "code",
      "metadata": {
        "id": "Jug_E_oJNYY_",
        "colab_type": "code",
        "colab": {
          "base_uri": "https://localhost:8080/",
          "height": 68
        },
        "outputId": "026a1a30-052e-45f5-fc08-f4369e058482"
      },
      "source": [
        "import nltk\n",
        "nltk.download('punkt')"
      ],
      "execution_count": null,
      "outputs": [
        {
          "output_type": "stream",
          "text": [
            "[nltk_data] Downloading package punkt to /root/nltk_data...\n",
            "[nltk_data]   Unzipping tokenizers/punkt.zip.\n"
          ],
          "name": "stdout"
        },
        {
          "output_type": "execute_result",
          "data": {
            "text/plain": [
              "True"
            ]
          },
          "metadata": {
            "tags": []
          },
          "execution_count": 1
        }
      ]
    },
    {
      "cell_type": "markdown",
      "metadata": {
        "id": "CmuuhFFEV9mk",
        "colab_type": "text"
      },
      "source": [
        "**STEP 1:**"
      ]
    },
    {
      "cell_type": "markdown",
      "metadata": {
        "id": "Rckwo8zPW8D5",
        "colab_type": "text"
      },
      "source": [
        "\n",
        "1.   Convert text to lower case.\n",
        "2.   Remove all non-word characters.\n",
        "3.   Remove all punctuations.\n",
        "\n"
      ]
    },
    {
      "cell_type": "code",
      "metadata": {
        "id": "_1HRB-4hOO37",
        "colab_type": "code",
        "colab": {}
      },
      "source": [
        "import nltk \n",
        "import re \n",
        "import numpy as np \n",
        "from nltk.tokenize import sent_tokenize\n",
        "# execute the text here as : \n",
        "text = \"\"\"It was the best of times, \n",
        "it was the worst of times, \n",
        "it was the age of wisdom, \n",
        "it was the age of foolishness,\"\"\" \n",
        "dataset =sent_tokenize(text) \n",
        "for i in range(len(dataset)): \n",
        "    dataset[i] = dataset[i].lower() \n",
        "    dataset[i] = re.sub(r'\\W', ' ', dataset[i]) \n",
        "    dataset[i] = re.sub(r'\\s+', ' ', dataset[i]) "
      ],
      "execution_count": null,
      "outputs": []
    },
    {
      "cell_type": "code",
      "metadata": {
        "id": "R5Fp8bo2R0z8",
        "colab_type": "code",
        "colab": {
          "base_uri": "https://localhost:8080/",
          "height": 34
        },
        "outputId": "1aab1801-186b-47d0-bfff-46a884f234cb"
      },
      "source": [
        "dataset"
      ],
      "execution_count": null,
      "outputs": [
        {
          "output_type": "execute_result",
          "data": {
            "text/plain": [
              "['it was the best of times it was the worst of times it was the age of wisdom it was the age of foolishness ']"
            ]
          },
          "metadata": {
            "tags": []
          },
          "execution_count": 3
        }
      ]
    },
    {
      "cell_type": "markdown",
      "metadata": {
        "id": "_9WNIm-NXx7b",
        "colab_type": "text"
      },
      "source": [
        "**STEP 2:**"
      ]
    },
    {
      "cell_type": "markdown",
      "metadata": {
        "id": "XBtdVRV6X4Gt",
        "colab_type": "text"
      },
      "source": [
        "1.   We declare a dictionary to hold our bag of words.\n",
        "2.   Next we tokenize each sentence to words.\n",
        "3.   Now for each word in sentence, we check if the word exists in our dictionary.\n",
        "4.   If it does, then we increment its count by 1. If it doesn’t, we add it to our dictionary and set its count as 1"
      ]
    },
    {
      "cell_type": "code",
      "metadata": {
        "id": "mhzKK8VHOjkU",
        "colab_type": "code",
        "colab": {}
      },
      "source": [
        "word2count = {} \n",
        "for data in dataset: \n",
        "    words = nltk.word_tokenize(data) \n",
        "    for word in words: \n",
        "        if word not in word2count.keys(): \n",
        "            word2count[word] = 1\n",
        "        else: \n",
        "            word2count[word] += 1"
      ],
      "execution_count": null,
      "outputs": []
    },
    {
      "cell_type": "code",
      "metadata": {
        "id": "pqYEUD3nSSTh",
        "colab_type": "code",
        "colab": {
          "base_uri": "https://localhost:8080/",
          "height": 187
        },
        "outputId": "cc47ed65-d063-488a-ca2e-421becdedc7c"
      },
      "source": [
        "word2count"
      ],
      "execution_count": null,
      "outputs": [
        {
          "output_type": "execute_result",
          "data": {
            "text/plain": [
              "{'age': 2,\n",
              " 'best': 1,\n",
              " 'foolishness': 1,\n",
              " 'it': 4,\n",
              " 'of': 4,\n",
              " 'the': 4,\n",
              " 'times': 2,\n",
              " 'was': 4,\n",
              " 'wisdom': 1,\n",
              " 'worst': 1}"
            ]
          },
          "metadata": {
            "tags": []
          },
          "execution_count": 5
        }
      ]
    },
    {
      "cell_type": "code",
      "metadata": {
        "id": "H2lWieRgPgfe",
        "colab_type": "code",
        "colab": {}
      },
      "source": [
        "import heapq \n",
        "freq_words = heapq.nlargest(100, word2count, key=word2count.get)"
      ],
      "execution_count": null,
      "outputs": []
    },
    {
      "cell_type": "code",
      "metadata": {
        "id": "aSMF1fwqVi9j",
        "colab_type": "code",
        "colab": {
          "base_uri": "https://localhost:8080/",
          "height": 187
        },
        "outputId": "5b73c1c3-e390-4843-aa26-2a1618deb175"
      },
      "source": [
        "freq_words"
      ],
      "execution_count": null,
      "outputs": [
        {
          "output_type": "execute_result",
          "data": {
            "text/plain": [
              "['it',\n",
              " 'was',\n",
              " 'the',\n",
              " 'of',\n",
              " 'times',\n",
              " 'age',\n",
              " 'best',\n",
              " 'worst',\n",
              " 'wisdom',\n",
              " 'foolishness']"
            ]
          },
          "metadata": {
            "tags": []
          },
          "execution_count": 16
        }
      ]
    },
    {
      "cell_type": "markdown",
      "metadata": {
        "id": "pTsw_-BbZKjO",
        "colab_type": "text"
      },
      "source": [
        "**STEP 3:**"
      ]
    },
    {
      "cell_type": "markdown",
      "metadata": {
        "id": "AxoYRRpnZchQ",
        "colab_type": "text"
      },
      "source": [
        "Building the Bag of Words model"
      ]
    },
    {
      "cell_type": "code",
      "metadata": {
        "id": "hsjl4C80Rdea",
        "colab_type": "code",
        "colab": {}
      },
      "source": [
        "X = [] \n",
        "for data in dataset: \n",
        "    vector = [] \n",
        "    for word in freq_words: \n",
        "        if word in nltk.word_tokenize(data): \n",
        "            vector.append(1) \n",
        "        else: \n",
        "            vector.append(0) \n",
        "    X.append(vector) \n",
        "X = np.asarray(X) "
      ],
      "execution_count": null,
      "outputs": []
    },
    {
      "cell_type": "code",
      "metadata": {
        "id": "RDI54eqgUBYF",
        "colab_type": "code",
        "colab": {
          "base_uri": "https://localhost:8080/",
          "height": 34
        },
        "outputId": "282c1e19-3491-4755-868d-e2884b554cdd"
      },
      "source": [
        "vector"
      ],
      "execution_count": null,
      "outputs": [
        {
          "output_type": "execute_result",
          "data": {
            "text/plain": [
              "[1, 1, 1, 1, 1, 1, 1, 1, 1, 1]"
            ]
          },
          "metadata": {
            "tags": []
          },
          "execution_count": 18
        }
      ]
    },
    {
      "cell_type": "code",
      "metadata": {
        "id": "qbawz1_SUp0r",
        "colab_type": "code",
        "colab": {
          "base_uri": "https://localhost:8080/",
          "height": 34
        },
        "outputId": "fc5fc4ee-6973-4307-d40b-85b8b251826e"
      },
      "source": [
        "X"
      ],
      "execution_count": null,
      "outputs": [
        {
          "output_type": "execute_result",
          "data": {
            "text/plain": [
              "array([[1, 1, 1, 1, 1, 1, 1, 1, 1, 1]])"
            ]
          },
          "metadata": {
            "tags": []
          },
          "execution_count": 19
        }
      ]
    },
    {
      "cell_type": "code",
      "metadata": {
        "id": "Pn_dKFxStM6j",
        "colab_type": "code",
        "colab": {}
      },
      "source": [
        ""
      ],
      "execution_count": null,
      "outputs": []
    }
  ]
}