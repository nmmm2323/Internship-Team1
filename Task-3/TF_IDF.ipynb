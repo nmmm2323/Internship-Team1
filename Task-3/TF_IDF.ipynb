{
  "nbformat": 4,
  "nbformat_minor": 0,
  "metadata": {
    "colab": {
      "name": "TF_IDF",
      "provenance": [],
      "collapsed_sections": []
    },
    "kernelspec": {
      "name": "python3",
      "display_name": "Python 3"
    }
  },
  "cells": [
    {
      "cell_type": "code",
      "metadata": {
        "id": "Sw5fl7vPW4TX",
        "colab_type": "code",
        "colab": {}
      },
      "source": [
        "import nltk\n",
        "from nltk.tokenize import sent_tokenize\n",
        "text='Now, assume we have 10 million documents and the word apple appears in one thousand of these.'\n",
        "sentences = sent_tokenize(text) # NLTK function\n",
        "total_documents = len(sentences)\n",
        "total_documents"
      ],
      "execution_count": null,
      "outputs": []
    },
    {
      "cell_type": "code",
      "metadata": {
        "id": "YPZmmiVqZeBs",
        "colab_type": "code",
        "colab": {
          "base_uri": "https://localhost:8080/",
          "height": 208
        },
        "outputId": "5593b9d5-b595-4823-d7c2-787d8d9996b5"
      },
      "source": [
        "def _create_frequency_matrix(sentences):\n",
        "    frequency_matrix = {}\n",
        "    stopWords = set(stopwords.words(\"english\"))\n",
        "    ps = PorterStemmer()\n",
        " \n",
        "    for sent in sentences:\n",
        "        freq_table = {}\n",
        "        words = nltk.word_tokenize(sent)\n",
        "        for word in words:\n",
        "            word = word.lower()\n",
        "            word = ps.stem(word)\n",
        "            if word in stopWords:\n",
        "                continue\n",
        " \n",
        "            if word in freq_table:\n",
        "                freq_table[word] += 1\n",
        "            else:\n",
        "                freq_table[word] = 1\n",
        " \n",
        "        frequency_matrix[sent[:15]] = freq_table\n",
        " \n",
        "    return frequency_matrix\n",
        " \n",
        "fm=_create_frequency_matrix(sentences)\n",
        "fm"
      ],
      "execution_count": null,
      "outputs": [
        {
          "output_type": "execute_result",
          "data": {
            "text/plain": [
              "{'Now, assume we ': {',': 1,\n",
              "  '.': 1,\n",
              "  '10': 1,\n",
              "  'appear': 1,\n",
              "  'appl': 1,\n",
              "  'assum': 1,\n",
              "  'document': 1,\n",
              "  'million': 1,\n",
              "  'one': 1,\n",
              "  'thousand': 1,\n",
              "  'word': 1}}"
            ]
          },
          "metadata": {
            "tags": []
          },
          "execution_count": 47
        }
      ]
    },
    {
      "cell_type": "code",
      "metadata": {
        "id": "iDgzWSc7am5D",
        "colab_type": "code",
        "colab": {
          "base_uri": "https://localhost:8080/",
          "height": 208
        },
        "outputId": "ab2833cd-0b5f-47ff-f45e-946bdd14bf5e"
      },
      "source": [
        "def _create_tf_matrix(fm):\n",
        "    tf_matrix = {}\n",
        "    \n",
        "    for sent, f_table in fm.items():\n",
        "        tf_table = {}\n",
        "\n",
        "        count_words_in_sentence = len(f_table)\n",
        "        for word, count in f_table.items():\n",
        "            tf_table[word] = count / count_words_in_sentence\n",
        "\n",
        "        tf_matrix[sent] = tf_table\n",
        "\n",
        "    return tf_matrix\n",
        "t=_create_tf_matrix(fm)\n",
        "t"
      ],
      "execution_count": null,
      "outputs": [
        {
          "output_type": "execute_result",
          "data": {
            "text/plain": [
              "{'Now, assume we ': {',': 0.09090909090909091,\n",
              "  '.': 0.09090909090909091,\n",
              "  '10': 0.09090909090909091,\n",
              "  'appear': 0.09090909090909091,\n",
              "  'appl': 0.09090909090909091,\n",
              "  'assum': 0.09090909090909091,\n",
              "  'document': 0.09090909090909091,\n",
              "  'million': 0.09090909090909091,\n",
              "  'one': 0.09090909090909091,\n",
              "  'thousand': 0.09090909090909091,\n",
              "  'word': 0.09090909090909091}}"
            ]
          },
          "metadata": {
            "tags": []
          },
          "execution_count": 75
        }
      ]
    },
    {
      "cell_type": "code",
      "metadata": {
        "id": "mFQRt7g7bei-",
        "colab_type": "code",
        "colab": {}
      },
      "source": [
        "def _create_documents_per_words(fm):\n",
        "    word_per_doc_table = {}\n",
        "\n",
        "    for sent, f_table in fm.items():\n",
        "        for word, count in f_table.items():\n",
        "            if word in word_per_doc_table:\n",
        "                word_per_doc_table[word] += 1\n",
        "            else:\n",
        "                word_per_doc_table[word] = 1\n",
        "\n",
        "    return word_per_doc_table\n",
        "cd=_create_documents_per_words(fm)"
      ],
      "execution_count": null,
      "outputs": []
    },
    {
      "cell_type": "code",
      "metadata": {
        "id": "MdNnFM6UcH9n",
        "colab_type": "code",
        "colab": {
          "base_uri": "https://localhost:8080/",
          "height": 208
        },
        "outputId": "d3df5fc8-d784-4aba-9764-4bcfbdc46b5e"
      },
      "source": [
        "import math\n",
        "def _create_idf_matrix(fm,cd, total_documents):\n",
        "    idf_matrix = {}\n",
        "\n",
        "    for sent, f_table in fm.items():\n",
        "        idf_table = {}\n",
        "\n",
        "        for word in f_table.keys():\n",
        "            idf_table[word] = math.log10(total_documents / float(cd[word]))\n",
        "\n",
        "        idf_matrix[sent] = idf_table\n",
        "\n",
        "    return idf_matrix\n",
        "_create_idf_matrix(fm, cd, total_documents)"
      ],
      "execution_count": null,
      "outputs": [
        {
          "output_type": "execute_result",
          "data": {
            "text/plain": [
              "{'Now, assume we ': {',': 0.0,\n",
              "  '.': 0.0,\n",
              "  '10': 0.0,\n",
              "  'appear': 0.0,\n",
              "  'appl': 0.0,\n",
              "  'assum': 0.0,\n",
              "  'document': 0.0,\n",
              "  'million': 0.0,\n",
              "  'one': 0.0,\n",
              "  'thousand': 0.0,\n",
              "  'word': 0.0}}"
            ]
          },
          "metadata": {
            "tags": []
          },
          "execution_count": 59
        }
      ]
    },
    {
      "cell_type": "code",
      "metadata": {
        "id": "PRzrxvJac6cO",
        "colab_type": "code",
        "colab": {
          "base_uri": "https://localhost:8080/",
          "height": 208
        },
        "outputId": "332abafd-1282-476d-ad9f-fbcd1be9d309"
      },
      "source": [
        "def _create_tf_idf_matrix(tf_matrix, idf_matrix):\n",
        "    tf_idf_matrix = {}\n",
        "\n",
        "    for (sent1, f_table1), (sent2, f_table2) in zip(tf_matrix.items(), idf_matrix.items()):\n",
        "\n",
        "        tf_idf_table = {}\n",
        "\n",
        "        for (word1, value1), (word2, value2) in zip(f_table1.items(),\n",
        "                                                    f_table2.items()):  # here, keys are the same in both the table\n",
        "            tf_idf_table[word1] = float(value1 * value2)\n",
        "\n",
        "        tf_idf_matrix[sent1] = tf_idf_table\n",
        "\n",
        "    return tf_idf_matrix\n",
        "_create_tf_idf_matrix(t, idf_matrix)"
      ],
      "execution_count": null,
      "outputs": [
        {
          "output_type": "execute_result",
          "data": {
            "text/plain": [
              "{'Now, assume we ': {',': 0.0,\n",
              "  '.': 0.0,\n",
              "  '10': 0.0,\n",
              "  'appear': 0.0,\n",
              "  'appl': 0.0,\n",
              "  'assum': 0.0,\n",
              "  'document': 0.0,\n",
              "  'million': 0.0,\n",
              "  'one': 0.0,\n",
              "  'thousand': 0.0,\n",
              "  'word': 0.0}}"
            ]
          },
          "metadata": {
            "tags": []
          },
          "execution_count": 76
        }
      ]
    },
    {
      "cell_type": "code",
      "metadata": {
        "id": "dguRal5WhvOU",
        "colab_type": "code",
        "colab": {
          "base_uri": "https://localhost:8080/",
          "height": 34
        },
        "outputId": "80326cfb-bc7d-48b4-926a-d399e8465293"
      },
      "source": [
        "def _score_sentences(tf_idf_matrix) -> dict:\n",
        "    \n",
        " \n",
        "    sentenceValue = {}\n",
        " \n",
        "    for sent, f_table in tf_idf_matrix.items():\n",
        "        total_score_per_sentence = 0\n",
        " \n",
        "        count_words_in_sentence = len(f_table)\n",
        "        for word, score in f_table.items():\n",
        "            total_score_per_sentence += score\n",
        " \n",
        "        sentenceValue[sent] = total_score_per_sentence / count_words_in_sentence\n",
        " \n",
        "    return sentenceValue\n",
        "s=_score_sentences(tf_idf_matrix)\n",
        "s"
      ],
      "execution_count": null,
      "outputs": [
        {
          "output_type": "execute_result",
          "data": {
            "text/plain": [
              "{'Now, assume we ': 0.0}"
            ]
          },
          "metadata": {
            "tags": []
          },
          "execution_count": 91
        }
      ]
    },
    {
      "cell_type": "code",
      "metadata": {
        "id": "Ezo804vuiOQq",
        "colab_type": "code",
        "colab": {}
      },
      "source": [
        "def _find_average_score(sentenceValue) -> int:\n",
        "    \"\"\"\n",
        "    Find the average score from the sentence value dictionary\n",
        "    :rtype: int\n",
        "    \"\"\"\n",
        "    sumValues = 0\n",
        "    for entry in sentenceValue:\n",
        "        sumValues += sentenceValue[entry]\n",
        " \n",
        "    # Average value of a sentence from original summary_text\n",
        "    average = (sumValues / len(sentenceValue))\n",
        " \n",
        "    return average\n",
        "g=_find_average_score(s)"
      ],
      "execution_count": null,
      "outputs": []
    },
    {
      "cell_type": "code",
      "metadata": {
        "id": "KghKKyiRjVXO",
        "colab_type": "code",
        "colab": {
          "base_uri": "https://localhost:8080/",
          "height": 69
        },
        "outputId": "37722046-c6fa-4e6b-c321-f59cac2059c9"
      },
      "source": [
        "def _generate_summary(sentences, sentenceValue, threshold):\n",
        "    sentence_count = 0\n",
        "    summary = ''\n",
        " \n",
        "    for sentence in sentences:\n",
        "        if sentence[:15] in sentenceValue and sentenceValue[sentence[:15]] >= (threshold):\n",
        "            summary += \" \" + sentence\n",
        "            sentence_count += 1\n",
        " \n",
        "    return summary\n",
        "_generate_summary(sentences, s, g)"
      ],
      "execution_count": null,
      "outputs": [
        {
          "output_type": "execute_result",
          "data": {
            "application/vnd.google.colaboratory.intrinsic+json": {
              "type": "string"
            },
            "text/plain": [
              "' Now, assume we have 10 million documents and the word apple appears in one thousand of these.'"
            ]
          },
          "metadata": {
            "tags": []
          },
          "execution_count": 97
        }
      ]
    }
  ]
}